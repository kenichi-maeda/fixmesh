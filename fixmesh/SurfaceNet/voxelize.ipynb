{
 "cells": [
  {
   "cell_type": "code",
   "execution_count": null,
   "id": "7773cdbb",
   "metadata": {},
   "outputs": [],
   "source": [
    "import trimesh\n",
    "import open3d as o3d\n",
    "import numpy as np\n",
    "import pyvista as pv\n",
    "import matplotlib.pyplot as plt\n",
    "from utils import *"
   ]
  },
  {
   "cell_type": "markdown",
   "id": "f9a52215",
   "metadata": {},
   "source": [
    "### Process\n",
    "1. Convert a standard triangular mesh into a voxel mesh. Assign labels to submeshes\n",
    "2. Apply SurfaceNet\n",
    "3. Check the resulting obj file (SurfaceNet has an option to return Obg)"
   ]
  },
  {
   "cell_type": "markdown",
   "id": "1ad8a910",
   "metadata": {},
   "source": [
    "### Voxelization\n",
    "Each point is the center of each voxel"
   ]
  },
  {
   "cell_type": "code",
   "execution_count": null,
   "id": "c114c163",
   "metadata": {},
   "outputs": [],
   "source": [
    "# Case 1\n",
    "mesh_file = \"data/original/two_spheres2.ply\"\n",
    "voxel_size = 0.02\n",
    "label_array = voxelize(mesh_file, voxel_size=voxel_size)\n",
    "visualize_label_array_with_pyvista(label_array, voxel_size)"
   ]
  },
  {
   "cell_type": "code",
   "execution_count": null,
   "id": "22531728",
   "metadata": {},
   "outputs": [],
   "source": [
    "# Case 2\n",
    "mesh_file = \"data/original/three_spheres.ply\"\n",
    "voxel_size = 0.02\n",
    "label_array = voxelize(mesh_file, voxel_size=voxel_size)\n",
    "visualize_label_array_with_pyvista(label_array, voxel_size)"
   ]
  },
  {
   "cell_type": "code",
   "execution_count": null,
   "id": "ebe5eaa1",
   "metadata": {},
   "outputs": [],
   "source": [
    "# Case 3\n",
    "mesh_file = \"data/original/toy3.ply\"\n",
    "voxel_size = 0.02\n",
    "label_array = voxelize(mesh_file, voxel_size=voxel_size)\n",
    "visualize_label_array_with_pyvista(label_array, voxel_size)"
   ]
  },
  {
   "cell_type": "markdown",
   "id": "f1a9c18b",
   "metadata": {},
   "source": [
    "### Each Label (after applying SurfaceNet)"
   ]
  },
  {
   "cell_type": "code",
   "execution_count": null,
   "id": "5bbfdec3",
   "metadata": {},
   "outputs": [],
   "source": [
    "# Case 1\n",
    "plotter = pv.Plotter(notebook=True)\n",
    "mesh1 = pv.read(\"data/case1/label_1.obj\")\n",
    "mesh2 = pv.read(\"data/case1/label_2.obj\")\n",
    "\n",
    "plotter.add_mesh(mesh1, color='blue')\n",
    "plotter.add_mesh(mesh2, color='red')\n",
    "plotter.show()"
   ]
  },
  {
   "cell_type": "code",
   "execution_count": null,
   "id": "29e630e6",
   "metadata": {},
   "outputs": [],
   "source": [
    "# Case 2\n",
    "plotter = pv.Plotter(notebook=True)\n",
    "mesh1 = pv.read(\"data/case2/label_1.obj\")\n",
    "mesh2 = pv.read(\"data/case2/label_2.obj\")\n",
    "mesh3 = pv.read(\"data/case2/label_3.obj\")\n",
    "\n",
    "plotter.add_mesh(mesh1, color='blue')\n",
    "plotter.add_mesh(mesh2, color='red')\n",
    "plotter.add_mesh(mesh3, color='green')\n",
    "plotter.show()"
   ]
  },
  {
   "cell_type": "code",
   "execution_count": null,
   "id": "c33b4272",
   "metadata": {},
   "outputs": [],
   "source": [
    "# Case 3\n",
    "plotter = pv.Plotter(notebook=True)\n",
    "mesh1 = pv.read(\"data/case3/label_1.obj\")\n",
    "mesh2 = pv.read(\"data/case3/label_2.obj\")\n",
    "\n",
    "plotter.add_mesh(mesh1, color='blue')\n",
    "plotter.add_mesh(mesh2, color='red')\n",
    "plotter.show()"
   ]
  },
  {
   "cell_type": "markdown",
   "id": "842de205",
   "metadata": {},
   "source": [
    "### Final Mesh"
   ]
  },
  {
   "cell_type": "code",
   "execution_count": null,
   "id": "beaade36",
   "metadata": {},
   "outputs": [],
   "source": [
    "# Case 1\n",
    "mesh = pv.read(\"data/case1/combined_labels.obj\")\n",
    "visualize_surface(mesh)"
   ]
  },
  {
   "cell_type": "code",
   "execution_count": null,
   "id": "a0b66e5f",
   "metadata": {},
   "outputs": [],
   "source": [
    "# Case 2\n",
    "mesh = pv.read(\"data/case2/combined_labels.obj\")\n",
    "visualize_surface(mesh)"
   ]
  },
  {
   "cell_type": "code",
   "execution_count": null,
   "id": "8b626677",
   "metadata": {},
   "outputs": [],
   "source": [
    "# Case 3\n",
    "mesh = pv.read(\"data/case3/combined_labels.obj\")\n",
    "visualize_surface(mesh)"
   ]
  },
  {
   "cell_type": "code",
   "execution_count": 21,
   "id": "d83efee6",
   "metadata": {},
   "outputs": [
    {
     "name": "stdout",
     "output_type": "stream",
     "text": [
      "0\n"
     ]
    }
   ],
   "source": [
    "import pymesh\n",
    "\n",
    "result = pymesh.load_mesh(\"data/case3/combined_labels.obj\")\n",
    "result, _ = pymesh.remove_duplicated_vertices(result)\n",
    "result, _ = pymesh.remove_duplicated_faces(result)\n",
    "intersections = pymesh.detect_self_intersection(result)\n",
    "print(len(intersections))"
   ]
  },
  {
   "cell_type": "code",
   "execution_count": null,
   "id": "e5bcc6c9",
   "metadata": {},
   "outputs": [],
   "source": []
  },
  {
   "cell_type": "code",
   "execution_count": null,
   "id": "d9f7eabe",
   "metadata": {},
   "outputs": [],
   "source": [
    "visualize_intersection(result)"
   ]
  },
  {
   "cell_type": "code",
   "execution_count": null,
   "id": "743b47e2",
   "metadata": {},
   "outputs": [],
   "source": [
    "trimesh.load(\"data/case2/combined_labels.obj\", process=False).export(\"data/case2/combined_labels.off\")"
   ]
  },
  {
   "cell_type": "code",
   "execution_count": null,
   "id": "85ff0057",
   "metadata": {},
   "outputs": [],
   "source": []
  }
 ],
 "metadata": {
  "kernelspec": {
   "display_name": "pymesh_env",
   "language": "python",
   "name": "python3"
  },
  "language_info": {
   "codemirror_mode": {
    "name": "ipython",
    "version": 3
   },
   "file_extension": ".py",
   "mimetype": "text/x-python",
   "name": "python",
   "nbconvert_exporter": "python",
   "pygments_lexer": "ipython3",
   "version": "3.10.16"
  }
 },
 "nbformat": 4,
 "nbformat_minor": 5
}
