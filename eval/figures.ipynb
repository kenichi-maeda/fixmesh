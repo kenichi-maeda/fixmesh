{
 "cells": [
  {
   "cell_type": "code",
   "execution_count": 1,
   "id": "f147979e",
   "metadata": {},
   "outputs": [],
   "source": [
    "import pymesh\n",
    "from utils import *"
   ]
  },
  {
   "cell_type": "markdown",
   "id": "8d8c4aac",
   "metadata": {},
   "source": [
    "### Case1"
   ]
  },
  {
   "cell_type": "code",
   "execution_count": 2,
   "id": "321834e5",
   "metadata": {},
   "outputs": [],
   "source": [
    "mesh = pymesh.load_mesh(\"../examples/data/two_spheres.ply\")\n",
    "method1_mesh = direct_repair(mesh)\n",
    "method2_mesh = pymesh.compute_outer_hull(mesh)\n",
    "method3_mesh = repair_meshlib(path=\"../examples/data/two_spheres.ply\", details=compute_median_edge_length(mesh)/4) # Fix self-intersections by converting to voxels and back.\n",
    "method4_mesh = repair_contour_original(\"../examples/SNResult/case1/combined_labels.obj\")          # repair_contour() is now depricated\n",
    "method5_mesh = repair_with_local_remesh(mesh) "
   ]
  },
  {
   "cell_type": "code",
   "execution_count": 3,
   "id": "d118a83e",
   "metadata": {},
   "outputs": [
    {
     "name": "stderr",
     "output_type": "stream",
     "text": [
      "/home/kmaeda/anaconda3/envs/pymesh_env/lib/python3.10/site-packages/pyvista/core/pointset.py:1365: PyVistaDeprecationWarning: The current behavior of `pv.PolyData.n_faces` has been deprecated.\n",
      "                Use `pv.PolyData.n_cells` or `pv.PolyData.n_faces_strict` instead.\n",
      "                See the documentation in '`pv.PolyData.n_faces` for more information.\n",
      "  warnings.warn(\n"
     ]
    },
    {
     "data": {
      "application/vnd.jupyter.widget-view+json": {
       "model_id": "cd025c48832a47b381cdc6330c5dc1d5",
       "version_major": 2,
       "version_minor": 0
      },
      "text/plain": [
       "Widget(value='<iframe src=\"http://localhost:36383/index.html?ui=P_0x7f3b84a0f3a0_0&reconnect=auto\" class=\"pyvi…"
      ]
     },
     "metadata": {},
     "output_type": "display_data"
    },
    {
     "data": {
      "text/plain": [
       "None"
      ]
     },
     "metadata": {},
     "output_type": "display_data"
    }
   ],
   "source": [
    "vis_for_paper(original=mesh, mesh1=method1_mesh, mesh2=method2_mesh, mesh3=method3_mesh, mesh4=method4_mesh, mesh5=method5_mesh)"
   ]
  },
  {
   "cell_type": "code",
   "execution_count": 4,
   "id": "d0aa4ba6",
   "metadata": {},
   "outputs": [
    {
     "data": {
      "application/vnd.jupyter.widget-view+json": {
       "model_id": "80f744d5ec564fee93a4e10dec93af01",
       "version_major": 2,
       "version_minor": 0
      },
      "text/plain": [
       "Widget(value='<iframe src=\"http://localhost:36383/index.html?ui=P_0x7f3b48d1ed40_1&reconnect=auto\" class=\"pyvi…"
      ]
     },
     "metadata": {},
     "output_type": "display_data"
    },
    {
     "data": {
      "text/plain": [
       "None"
      ]
     },
     "metadata": {},
     "output_type": "display_data"
    }
   ],
   "source": [
    "p1 = vis_for_paper_inner(original=mesh, mesh1=method1_mesh, mesh2=method2_mesh, mesh3=method3_mesh, mesh4=method4_mesh, mesh5=method5_mesh)"
   ]
  },
  {
   "cell_type": "code",
   "execution_count": 5,
   "id": "6a906c0d",
   "metadata": {},
   "outputs": [],
   "source": [
    "p1.clear_slider_widgets()"
   ]
  },
  {
   "cell_type": "code",
   "execution_count": 6,
   "id": "a3406830",
   "metadata": {},
   "outputs": [
    {
     "name": "stdout",
     "output_type": "stream",
     "text": [
      "A view with name (P_0x7f3b48d1ed40_1) is already registered\n",
      " => returning previous one\n"
     ]
    },
    {
     "data": {
      "application/vnd.jupyter.widget-view+json": {
       "model_id": "e7976658b4764371b49cbd121d2d76d4",
       "version_major": 2,
       "version_minor": 0
      },
      "text/plain": [
       "Widget(value='<iframe src=\"http://localhost:36383/index.html?ui=P_0x7f3b48d1ed40_1&reconnect=auto\" class=\"pyvi…"
      ]
     },
     "metadata": {},
     "output_type": "display_data"
    },
    {
     "data": {
      "text/plain": [
       "None"
      ]
     },
     "metadata": {},
     "output_type": "display_data"
    }
   ],
   "source": [
    "display(p1.show(jupyter_backend='trame'))"
   ]
  },
  {
   "cell_type": "markdown",
   "id": "605bddb9",
   "metadata": {},
   "source": [
    "### Case2"
   ]
  },
  {
   "cell_type": "code",
   "execution_count": 7,
   "id": "ae467c90",
   "metadata": {},
   "outputs": [],
   "source": [
    "mesh2 = pymesh.load_mesh(\"../examples/data/three_spheres.ply\")\n",
    "method1_mesh2 = direct_repair(mesh2)\n",
    "method2_mesh2 = pymesh.compute_outer_hull(mesh2)\n",
    "method3_mesh2 = repair_meshlib(path=\"../examples/data/three_spheres.ply\", details=compute_median_edge_length(mesh2)/4)\n",
    "method4_mesh2 = repair_contour_original(\"../examples/SNResult/case2/combined_labels.obj\")\n",
    "method5_mesh2 = repair_with_local_remesh(mesh2)"
   ]
  },
  {
   "cell_type": "code",
   "execution_count": 8,
   "id": "34e4d7d0",
   "metadata": {},
   "outputs": [
    {
     "data": {
      "application/vnd.jupyter.widget-view+json": {
       "model_id": "a824bf3cdc5e4cc190289e31bb2c0721",
       "version_major": 2,
       "version_minor": 0
      },
      "text/plain": [
       "Widget(value='<iframe src=\"http://localhost:36383/index.html?ui=P_0x7f3b48d75e40_2&reconnect=auto\" class=\"pyvi…"
      ]
     },
     "metadata": {},
     "output_type": "display_data"
    },
    {
     "data": {
      "text/plain": [
       "None"
      ]
     },
     "metadata": {},
     "output_type": "display_data"
    }
   ],
   "source": [
    "vis_for_paper(original=mesh2, mesh1=method1_mesh2, mesh2=method2_mesh2, mesh3=method3_mesh2, mesh4=method4_mesh2, mesh5=method5_mesh2)"
   ]
  },
  {
   "cell_type": "code",
   "execution_count": 9,
   "id": "59c9cb90",
   "metadata": {},
   "outputs": [],
   "source": [
    "def vis_for_paper_inner_v2(\n",
    "    original, mesh1, mesh2, mesh3, mesh4, mesh5\n",
    "):\n",
    "    original_pv = convert_to_pyvista(original)\n",
    "    mesh1_pv = convert_to_pyvista(mesh1)\n",
    "    mesh2_pv = convert_to_pyvista(mesh2)\n",
    "    mesh3_pv = convert_to_pyvista(mesh3)\n",
    "    mesh4_pv = convert_to_pyvista(mesh4)\n",
    "    mesh5_pv = convert_to_pyvista(mesh5)\n",
    "\n",
    "    meshes_pv = [original_pv, mesh1_pv, mesh2_pv, mesh3_pv, mesh4_pv, mesh5_pv]\n",
    "    plotter = pv.Plotter(shape=(2, 3), notebook=True, border=False)\n",
    "\n",
    "    mesh_actors = []\n",
    "\n",
    "    plotter.subplot(0, 0)\n",
    "    actor0 = plotter.add_mesh(original_pv, color='white', show_edges=True, edge_color='black')\n",
    "    mesh_actors.append(actor0)\n",
    "    plotter.add_text(\"Original\", position='upper_left', font_size=15)\n",
    "\n",
    "    plotter.subplot(0, 1)\n",
    "    actor1 = plotter.add_mesh(mesh1_pv, color='white', show_edges=True, edge_color='black')\n",
    "    mesh_actors.append(actor1)\n",
    "    plotter.add_text(\"PyMeshFix\", position='upper_left', font_size=15)\n",
    "\n",
    "    plotter.subplot(0, 2)\n",
    "    actor2 = plotter.add_mesh(mesh2_pv, color='white', show_edges=True, edge_color='black')\n",
    "    mesh_actors.append(actor2)\n",
    "    plotter.add_text(\"PyMesh\", position='upper_left', font_size=15)\n",
    "\n",
    "    plotter.subplot(1, 0)\n",
    "    actor3 = plotter.add_mesh(mesh3_pv, color='white', show_edges=True, edge_color='black')\n",
    "    mesh_actors.append(actor3)\n",
    "    plotter.add_text(\"MeshLib\", position='upper_left', font_size=15)\n",
    "\n",
    "    plotter.subplot(1, 1)\n",
    "    actor4 = plotter.add_mesh(mesh3_pv, color='white', show_edges=True, edge_color='black')\n",
    "    mesh_actors.append(actor4)\n",
    "    plotter.add_text(\"SurfaceNets\", position='upper_left', font_size=15)\n",
    "\n",
    "    plotter.subplot(1, 2)\n",
    "    actor5 = plotter.add_mesh(mesh5_pv, color='white', show_edges=True, edge_color='black')\n",
    "    mesh_actors.append(actor5)\n",
    "    plotter.add_text(\"Local Remesh\", position='upper_left', font_size=15)\n",
    "\n",
    "    plotter.link_views()\n",
    "\n",
    "    def update_clipping_plane(value):\n",
    "        plane = pv.Plane(center=(value, 0, 0), direction=(2, -0.5, -0.4))\n",
    "        for i, mesh_pv in enumerate(meshes_pv):\n",
    "            clipped = mesh_pv.clip_surface(plane, invert=False)\n",
    "            mesh_actors[i].mapper.SetInputData(clipped)\n",
    "        plotter.render()\n",
    "\n",
    "    x_min, x_max, _, _, _, _ = original_pv.bounds\n",
    "    plotter.add_slider_widget(\n",
    "        callback=update_clipping_plane,\n",
    "        rng=[x_min, x_max],\n",
    "        value=(x_min + x_max) * 0.5,\n",
    "        title=\"Clip Plane (X)\"\n",
    "    )\n",
    "\n",
    "    display(plotter.show(jupyter_backend='trame'))\n",
    "    return plotter"
   ]
  },
  {
   "cell_type": "code",
   "execution_count": 10,
   "id": "a78da695",
   "metadata": {},
   "outputs": [
    {
     "data": {
      "application/vnd.jupyter.widget-view+json": {
       "model_id": "b12727d026b84dfda422987fcfcc156a",
       "version_major": 2,
       "version_minor": 0
      },
      "text/plain": [
       "Widget(value='<iframe src=\"http://localhost:36383/index.html?ui=P_0x7f3b48d1f520_3&reconnect=auto\" class=\"pyvi…"
      ]
     },
     "metadata": {},
     "output_type": "display_data"
    },
    {
     "data": {
      "text/plain": [
       "None"
      ]
     },
     "metadata": {},
     "output_type": "display_data"
    }
   ],
   "source": [
    "p2 = vis_for_paper_inner_v2(original=mesh2, mesh1=method1_mesh2, mesh2=method2_mesh2, mesh3=method3_mesh2, mesh4=method4_mesh2, mesh5=method5_mesh2)"
   ]
  },
  {
   "cell_type": "code",
   "execution_count": 11,
   "id": "8dd1dcd5",
   "metadata": {},
   "outputs": [],
   "source": [
    "p2.clear_slider_widgets()"
   ]
  },
  {
   "cell_type": "code",
   "execution_count": 12,
   "id": "7fb4f52d",
   "metadata": {},
   "outputs": [
    {
     "name": "stdout",
     "output_type": "stream",
     "text": [
      "A view with name (P_0x7f3b48d1f520_3) is already registered\n",
      " => returning previous one\n"
     ]
    },
    {
     "data": {
      "application/vnd.jupyter.widget-view+json": {
       "model_id": "eafd96e1ca5a4cc4b64399d4cd1d3508",
       "version_major": 2,
       "version_minor": 0
      },
      "text/plain": [
       "Widget(value='<iframe src=\"http://localhost:36383/index.html?ui=P_0x7f3b48d1f520_3&reconnect=auto\" class=\"pyvi…"
      ]
     },
     "metadata": {},
     "output_type": "display_data"
    },
    {
     "data": {
      "text/plain": [
       "None"
      ]
     },
     "metadata": {},
     "output_type": "display_data"
    }
   ],
   "source": [
    "display(p2.show(jupyter_backend='trame'))"
   ]
  },
  {
   "cell_type": "markdown",
   "id": "a1c5d001",
   "metadata": {},
   "source": [
    "### Case3"
   ]
  },
  {
   "cell_type": "code",
   "execution_count": 13,
   "id": "87a65823",
   "metadata": {},
   "outputs": [],
   "source": [
    "mesh3 = pymesh.load_mesh(\"../examples/data/sphere_cube.ply\")\n",
    "method1_mesh3 = direct_repair(mesh3)\n",
    "method2_mesh3 = pymesh.compute_outer_hull(mesh3)\n",
    "method3_mesh3 = repair_meshlib(path=\"../examples/data/sphere_cube.ply\", details=compute_median_edge_length(mesh3)/4)\n",
    "method4_mesh3 = repair_contour_original(\"../examples/SNResult/case3/combined_labels.obj\")\n",
    "method5_mesh3 = repair_with_local_remesh(mesh3)"
   ]
  },
  {
   "cell_type": "code",
   "execution_count": 14,
   "id": "e60f3f73",
   "metadata": {},
   "outputs": [
    {
     "data": {
      "application/vnd.jupyter.widget-view+json": {
       "model_id": "ae4fcd3bdbde4804844addd2d9f08fc0",
       "version_major": 2,
       "version_minor": 0
      },
      "text/plain": [
       "Widget(value='<iframe src=\"http://localhost:36383/index.html?ui=P_0x7f3afd03fa00_4&reconnect=auto\" class=\"pyvi…"
      ]
     },
     "metadata": {},
     "output_type": "display_data"
    },
    {
     "data": {
      "text/plain": [
       "None"
      ]
     },
     "metadata": {},
     "output_type": "display_data"
    }
   ],
   "source": [
    "vis_for_paper(original=mesh3, mesh1=method1_mesh3, mesh2=method2_mesh3, mesh3=method3_mesh3, mesh4=method4_mesh3, mesh5=method5_mesh3)"
   ]
  },
  {
   "cell_type": "code",
   "execution_count": 15,
   "id": "b2c70054",
   "metadata": {},
   "outputs": [
    {
     "data": {
      "application/vnd.jupyter.widget-view+json": {
       "model_id": "d081c11d0d07477890a36d2c513b5785",
       "version_major": 2,
       "version_minor": 0
      },
      "text/plain": [
       "Widget(value='<iframe src=\"http://localhost:36383/index.html?ui=P_0x7f3afd0e6bc0_5&reconnect=auto\" class=\"pyvi…"
      ]
     },
     "metadata": {},
     "output_type": "display_data"
    },
    {
     "data": {
      "text/plain": [
       "None"
      ]
     },
     "metadata": {},
     "output_type": "display_data"
    }
   ],
   "source": [
    "p3 = vis_for_paper_inner(original=mesh3, mesh1=method1_mesh3, mesh2=method2_mesh3, mesh3=method3_mesh3, mesh4=method4_mesh3, mesh5=method5_mesh3)"
   ]
  },
  {
   "cell_type": "code",
   "execution_count": 16,
   "id": "f41bf9b4",
   "metadata": {},
   "outputs": [],
   "source": [
    "p3.clear_slider_widgets()"
   ]
  },
  {
   "cell_type": "code",
   "execution_count": 17,
   "id": "a4ecbc7b",
   "metadata": {},
   "outputs": [
    {
     "name": "stdout",
     "output_type": "stream",
     "text": [
      "A view with name (P_0x7f3afd0e6bc0_5) is already registered\n",
      " => returning previous one\n"
     ]
    },
    {
     "data": {
      "application/vnd.jupyter.widget-view+json": {
       "model_id": "dcee5fa6923e48a9b6c5c2b6a4b215ba",
       "version_major": 2,
       "version_minor": 0
      },
      "text/plain": [
       "Widget(value='<iframe src=\"http://localhost:36383/index.html?ui=P_0x7f3afd0e6bc0_5&reconnect=auto\" class=\"pyvi…"
      ]
     },
     "metadata": {},
     "output_type": "display_data"
    },
    {
     "data": {
      "text/plain": [
       "None"
      ]
     },
     "metadata": {},
     "output_type": "display_data"
    }
   ],
   "source": [
    "display(p3.show(jupyter_backend='trame'))"
   ]
  },
  {
   "cell_type": "code",
   "execution_count": null,
   "id": "17a85c9b",
   "metadata": {},
   "outputs": [],
   "source": []
  }
 ],
 "metadata": {
  "kernelspec": {
   "display_name": "pymesh_env",
   "language": "python",
   "name": "python3"
  },
  "language_info": {
   "codemirror_mode": {
    "name": "ipython",
    "version": 3
   },
   "file_extension": ".py",
   "mimetype": "text/x-python",
   "name": "python",
   "nbconvert_exporter": "python",
   "pygments_lexer": "ipython3",
   "version": "3.10.16"
  }
 },
 "nbformat": 4,
 "nbformat_minor": 5
}
