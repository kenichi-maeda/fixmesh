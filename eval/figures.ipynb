{
 "cells": [
  {
   "cell_type": "code",
   "execution_count": 1,
   "id": "f147979e",
   "metadata": {},
   "outputs": [],
   "source": [
    "import pymesh\n",
    "from utils import *"
   ]
  },
  {
   "cell_type": "markdown",
   "id": "8d8c4aac",
   "metadata": {},
   "source": [
    "### Case1"
   ]
  },
  {
   "cell_type": "code",
   "execution_count": 2,
   "id": "321834e5",
   "metadata": {},
   "outputs": [],
   "source": [
    "mesh = pymesh.load_mesh(\"../examples/data/two_spheres.ply\")\n",
    "method1_mesh = direct_repair(mesh)\n",
    "method2_mesh = pymesh.compute_outer_hull(mesh)\n",
    "method3_mesh = repair_meshlib(path=\"../examples/data/two_spheres.ply\", details=compute_median_edge_length(mesh)/2) # Fix self-intersections by converting to voxels and back.\n",
    "method4_mesh = repair_contour_original(\"../examples/SNResult/case1/combined_labels.obj\")          # repair_contour() is now depricated\n",
    "method5_mesh = repair_with_local_remesh(mesh) "
   ]
  },
  {
   "cell_type": "code",
   "execution_count": 3,
   "id": "d118a83e",
   "metadata": {},
   "outputs": [
    {
     "name": "stderr",
     "output_type": "stream",
     "text": [
      "/home/kmaeda/anaconda3/envs/pymesh_env/lib/python3.10/site-packages/pyvista/core/pointset.py:1365: PyVistaDeprecationWarning: The current behavior of `pv.PolyData.n_faces` has been deprecated.\n",
      "                Use `pv.PolyData.n_cells` or `pv.PolyData.n_faces_strict` instead.\n",
      "                See the documentation in '`pv.PolyData.n_faces` for more information.\n",
      "  warnings.warn(\n"
     ]
    },
    {
     "data": {
      "application/vnd.jupyter.widget-view+json": {
       "model_id": "feb842906d2849b29ba1acc128033629",
       "version_major": 2,
       "version_minor": 0
      },
      "text/plain": [
       "Widget(value='<iframe src=\"http://localhost:38099/index.html?ui=P_0x7fbb537b6740_0&reconnect=auto\" class=\"pyvi…"
      ]
     },
     "metadata": {},
     "output_type": "display_data"
    },
    {
     "data": {
      "text/plain": [
       "None"
      ]
     },
     "metadata": {},
     "output_type": "display_data"
    }
   ],
   "source": [
    "vis_for_paper(original=mesh, mesh1=method1_mesh, mesh2=method2_mesh, mesh3=method3_mesh, mesh4=method4_mesh, mesh5=method5_mesh)"
   ]
  },
  {
   "cell_type": "code",
   "execution_count": 4,
   "id": "d0aa4ba6",
   "metadata": {},
   "outputs": [
    {
     "data": {
      "application/vnd.jupyter.widget-view+json": {
       "model_id": "2a9e3410a965445697634c27d71aef32",
       "version_major": 2,
       "version_minor": 0
      },
      "text/plain": [
       "Widget(value='<iframe src=\"http://localhost:38099/index.html?ui=P_0x7fbb52ac29b0_1&reconnect=auto\" class=\"pyvi…"
      ]
     },
     "metadata": {},
     "output_type": "display_data"
    },
    {
     "data": {
      "text/plain": [
       "None"
      ]
     },
     "metadata": {},
     "output_type": "display_data"
    }
   ],
   "source": [
    "p1 = vis_for_paper_inner(original=mesh, mesh1=method1_mesh, mesh2=method2_mesh, mesh3=method3_mesh, mesh4=method4_mesh, mesh5=method5_mesh)"
   ]
  },
  {
   "cell_type": "code",
   "execution_count": 5,
   "id": "6a906c0d",
   "metadata": {},
   "outputs": [],
   "source": [
    "p1.clear_slider_widgets()"
   ]
  },
  {
   "cell_type": "code",
   "execution_count": 6,
   "id": "a3406830",
   "metadata": {},
   "outputs": [
    {
     "name": "stdout",
     "output_type": "stream",
     "text": [
      "A view with name (P_0x7fbb52ac29b0_1) is already registered\n",
      " => returning previous one\n"
     ]
    },
    {
     "data": {
      "application/vnd.jupyter.widget-view+json": {
       "model_id": "5ddbf9fd987f45c2a6b1ed5befcdd4c5",
       "version_major": 2,
       "version_minor": 0
      },
      "text/plain": [
       "Widget(value='<iframe src=\"http://localhost:38099/index.html?ui=P_0x7fbb52ac29b0_1&reconnect=auto\" class=\"pyvi…"
      ]
     },
     "metadata": {},
     "output_type": "display_data"
    },
    {
     "data": {
      "text/plain": [
       "None"
      ]
     },
     "metadata": {},
     "output_type": "display_data"
    }
   ],
   "source": [
    "display(p1.show(jupyter_backend='trame'))"
   ]
  },
  {
   "cell_type": "markdown",
   "id": "605bddb9",
   "metadata": {},
   "source": [
    "### Case2"
   ]
  },
  {
   "cell_type": "code",
   "execution_count": 7,
   "id": "ae467c90",
   "metadata": {},
   "outputs": [],
   "source": [
    "mesh2 = pymesh.load_mesh(\"../examples/data/three_spheres.ply\")\n",
    "method1_mesh2 = direct_repair(mesh2)\n",
    "method2_mesh2 = pymesh.compute_outer_hull(mesh2)\n",
    "method3_mesh2 = repair_meshlib(path=\"../examples/data/three_spheres.ply\", details=compute_median_edge_length(mesh2)/2)\n",
    "method4_mesh2 = repair_contour_original(\"../examples/SNResult/case2/combined_labels.obj\")\n",
    "method5_mesh2 = repair_with_local_remesh(mesh2)"
   ]
  },
  {
   "cell_type": "code",
   "execution_count": 8,
   "id": "34e4d7d0",
   "metadata": {},
   "outputs": [
    {
     "data": {
      "application/vnd.jupyter.widget-view+json": {
       "model_id": "cbea3ac364c54169a1ef700543e4e3ea",
       "version_major": 2,
       "version_minor": 0
      },
      "text/plain": [
       "Widget(value='<iframe src=\"http://localhost:38099/index.html?ui=P_0x7fbafd66e680_2&reconnect=auto\" class=\"pyvi…"
      ]
     },
     "metadata": {},
     "output_type": "display_data"
    },
    {
     "data": {
      "text/plain": [
       "None"
      ]
     },
     "metadata": {},
     "output_type": "display_data"
    }
   ],
   "source": [
    "vis_for_paper(original=mesh2, mesh1=method1_mesh2, mesh2=method2_mesh2, mesh3=method3_mesh2, mesh4=method4_mesh2, mesh5=method5_mesh2)"
   ]
  },
  {
   "cell_type": "code",
   "execution_count": 9,
   "id": "59c9cb90",
   "metadata": {},
   "outputs": [],
   "source": [
    "def vis_for_paper_inner_v2(\n",
    "    original, mesh1, mesh2, mesh3, mesh4, mesh5\n",
    "):\n",
    "    original_pv = convert_to_pyvista(original)\n",
    "    mesh1_pv = convert_to_pyvista(mesh1)\n",
    "    mesh2_pv = convert_to_pyvista(mesh2)\n",
    "    mesh3_pv = convert_to_pyvista(mesh3)\n",
    "    mesh4_pv = convert_to_pyvista(mesh4)\n",
    "    mesh5_pv = convert_to_pyvista(mesh5)\n",
    "\n",
    "    meshes_pv = [original_pv, mesh1_pv, mesh2_pv, mesh3_pv, mesh4_pv, mesh5_pv]\n",
    "    plotter = pv.Plotter(shape=(2, 3), notebook=True, border=False)\n",
    "\n",
    "    mesh_actors = []\n",
    "\n",
    "    plotter.subplot(0, 0)\n",
    "    actor0 = plotter.add_mesh(original_pv, color='white', show_edges=True, edge_color='black')\n",
    "    mesh_actors.append(actor0)\n",
    "    plotter.add_text(\"Original\", position='upper_left', font_size=15)\n",
    "\n",
    "    plotter.subplot(0, 1)\n",
    "    actor1 = plotter.add_mesh(mesh1_pv, color='white', show_edges=True, edge_color='black')\n",
    "    mesh_actors.append(actor1)\n",
    "    plotter.add_text(\"PyMeshFix\", position='upper_left', font_size=15)\n",
    "\n",
    "    plotter.subplot(0, 2)\n",
    "    actor2 = plotter.add_mesh(mesh2_pv, color='white', show_edges=True, edge_color='black')\n",
    "    mesh_actors.append(actor2)\n",
    "    plotter.add_text(\"PyMesh\", position='upper_left', font_size=15)\n",
    "\n",
    "    plotter.subplot(1, 0)\n",
    "    actor3 = plotter.add_mesh(mesh3_pv, color='white', show_edges=True, edge_color='black')\n",
    "    mesh_actors.append(actor3)\n",
    "    plotter.add_text(\"MeshLib\", position='upper_left', font_size=15)\n",
    "\n",
    "    plotter.subplot(1, 1)\n",
    "    actor4 = plotter.add_mesh(mesh3_pv, color='white', show_edges=True, edge_color='black')\n",
    "    mesh_actors.append(actor4)\n",
    "    plotter.add_text(\"SurfaceNets\", position='upper_left', font_size=15)\n",
    "\n",
    "    plotter.subplot(1, 2)\n",
    "    actor5 = plotter.add_mesh(mesh5_pv, color='white', show_edges=True, edge_color='black')\n",
    "    mesh_actors.append(actor5)\n",
    "    plotter.add_text(\"Local Remesh\", position='upper_left', font_size=15)\n",
    "\n",
    "    plotter.link_views()\n",
    "\n",
    "    def update_clipping_plane(value):\n",
    "        plane = pv.Plane(center=(value, 0, 0), direction=(2, -0.5, -0.4))\n",
    "        for i, mesh_pv in enumerate(meshes_pv):\n",
    "            clipped = mesh_pv.clip_surface(plane, invert=False)\n",
    "            mesh_actors[i].mapper.SetInputData(clipped)\n",
    "        plotter.render()\n",
    "\n",
    "    x_min, x_max, _, _, _, _ = original_pv.bounds\n",
    "    plotter.add_slider_widget(\n",
    "        callback=update_clipping_plane,\n",
    "        rng=[x_min, x_max],\n",
    "        value=(x_min + x_max) * 0.5,\n",
    "        title=\"Clip Plane (X)\"\n",
    "    )\n",
    "\n",
    "    display(plotter.show(jupyter_backend='trame'))\n",
    "    return plotter"
   ]
  },
  {
   "cell_type": "code",
   "execution_count": 10,
   "id": "a78da695",
   "metadata": {},
   "outputs": [
    {
     "data": {
      "application/vnd.jupyter.widget-view+json": {
       "model_id": "8f9a0cc09f3a4828b41f2ad88d7a7cae",
       "version_major": 2,
       "version_minor": 0
      },
      "text/plain": [
       "Widget(value='<iframe src=\"http://localhost:38099/index.html?ui=P_0x7fbad0116ce0_3&reconnect=auto\" class=\"pyvi…"
      ]
     },
     "metadata": {},
     "output_type": "display_data"
    },
    {
     "data": {
      "text/plain": [
       "None"
      ]
     },
     "metadata": {},
     "output_type": "display_data"
    }
   ],
   "source": [
    "p2 = vis_for_paper_inner_v2(original=mesh2, mesh1=method1_mesh2, mesh2=method2_mesh2, mesh3=method3_mesh2, mesh4=method4_mesh2, mesh5=method5_mesh2)"
   ]
  },
  {
   "cell_type": "code",
   "execution_count": 11,
   "id": "8dd1dcd5",
   "metadata": {},
   "outputs": [],
   "source": [
    "p2.clear_slider_widgets()"
   ]
  },
  {
   "cell_type": "code",
   "execution_count": 12,
   "id": "7fb4f52d",
   "metadata": {},
   "outputs": [
    {
     "name": "stdout",
     "output_type": "stream",
     "text": [
      "A view with name (P_0x7fbad0116ce0_3) is already registered\n",
      " => returning previous one\n"
     ]
    },
    {
     "data": {
      "application/vnd.jupyter.widget-view+json": {
       "model_id": "f877009e1e1341f1a39b8626efc11bd3",
       "version_major": 2,
       "version_minor": 0
      },
      "text/plain": [
       "Widget(value='<iframe src=\"http://localhost:38099/index.html?ui=P_0x7fbad0116ce0_3&reconnect=auto\" class=\"pyvi…"
      ]
     },
     "metadata": {},
     "output_type": "display_data"
    },
    {
     "data": {
      "text/plain": [
       "None"
      ]
     },
     "metadata": {},
     "output_type": "display_data"
    }
   ],
   "source": [
    "display(p2.show(jupyter_backend='trame'))"
   ]
  },
  {
   "cell_type": "markdown",
   "id": "a1c5d001",
   "metadata": {},
   "source": [
    "### Case3"
   ]
  },
  {
   "cell_type": "code",
   "execution_count": 13,
   "id": "87a65823",
   "metadata": {},
   "outputs": [],
   "source": [
    "mesh3 = pymesh.load_mesh(\"../examples/data/sphere_cube.ply\")\n",
    "method1_mesh3 = direct_repair(mesh3)\n",
    "method2_mesh3 = pymesh.compute_outer_hull(mesh3)\n",
    "method3_mesh3 = repair_meshlib(path=\"../examples/data/sphere_cube.ply\", details=compute_median_edge_length(mesh3)/2)\n",
    "method4_mesh3 = repair_contour_original(\"../examples/SNResult/case3/combined_labels.obj\")\n",
    "method5_mesh3 = repair_with_local_remesh(mesh3)"
   ]
  },
  {
   "cell_type": "code",
   "execution_count": 14,
   "id": "e60f3f73",
   "metadata": {},
   "outputs": [
    {
     "data": {
      "application/vnd.jupyter.widget-view+json": {
       "model_id": "d2be0316a1b04fef9429fd077f2db9c1",
       "version_major": 2,
       "version_minor": 0
      },
      "text/plain": [
       "Widget(value='<iframe src=\"http://localhost:38099/index.html?ui=P_0x7fbad0114a90_4&reconnect=auto\" class=\"pyvi…"
      ]
     },
     "metadata": {},
     "output_type": "display_data"
    },
    {
     "data": {
      "text/plain": [
       "None"
      ]
     },
     "metadata": {},
     "output_type": "display_data"
    }
   ],
   "source": [
    "vis_for_paper(original=mesh3, mesh1=method1_mesh3, mesh2=method2_mesh3, mesh3=method3_mesh3, mesh4=method4_mesh3, mesh5=method5_mesh3)"
   ]
  },
  {
   "cell_type": "code",
   "execution_count": 16,
   "id": "b2c70054",
   "metadata": {},
   "outputs": [
    {
     "data": {
      "application/vnd.jupyter.widget-view+json": {
       "model_id": "f8d8fc69de1d44c7bb5b8f906160b1e5",
       "version_major": 2,
       "version_minor": 0
      },
      "text/plain": [
       "Widget(value='<iframe src=\"http://localhost:38099/index.html?ui=P_0x7fbaa6ba7880_5&reconnect=auto\" class=\"pyvi…"
      ]
     },
     "metadata": {},
     "output_type": "display_data"
    },
    {
     "data": {
      "text/plain": [
       "None"
      ]
     },
     "metadata": {},
     "output_type": "display_data"
    }
   ],
   "source": [
    "p3 = vis_for_paper_inner(original=mesh3, mesh1=method1_mesh3, mesh2=method2_mesh3, mesh3=method3_mesh3, mesh4=method4_mesh3, mesh5=method5_mesh3)"
   ]
  },
  {
   "cell_type": "code",
   "execution_count": 17,
   "id": "f41bf9b4",
   "metadata": {},
   "outputs": [],
   "source": [
    "p3.clear_slider_widgets()"
   ]
  },
  {
   "cell_type": "code",
   "execution_count": 18,
   "id": "a4ecbc7b",
   "metadata": {},
   "outputs": [
    {
     "name": "stdout",
     "output_type": "stream",
     "text": [
      "A view with name (P_0x7fbaa6ba7880_5) is already registered\n",
      " => returning previous one\n"
     ]
    },
    {
     "data": {
      "application/vnd.jupyter.widget-view+json": {
       "model_id": "947ecc38c3414f76a342ecc89de92659",
       "version_major": 2,
       "version_minor": 0
      },
      "text/plain": [
       "Widget(value='<iframe src=\"http://localhost:38099/index.html?ui=P_0x7fbaa6ba7880_5&reconnect=auto\" class=\"pyvi…"
      ]
     },
     "metadata": {},
     "output_type": "display_data"
    },
    {
     "data": {
      "text/plain": [
       "None"
      ]
     },
     "metadata": {},
     "output_type": "display_data"
    }
   ],
   "source": [
    "display(p3.show(jupyter_backend='trame'))"
   ]
  },
  {
   "cell_type": "code",
   "execution_count": null,
   "id": "17a85c9b",
   "metadata": {},
   "outputs": [],
   "source": []
  }
 ],
 "metadata": {
  "kernelspec": {
   "display_name": "pymesh_env",
   "language": "python",
   "name": "python3"
  },
  "language_info": {
   "codemirror_mode": {
    "name": "ipython",
    "version": 3
   },
   "file_extension": ".py",
   "mimetype": "text/x-python",
   "name": "python",
   "nbconvert_exporter": "python",
   "pygments_lexer": "ipython3",
   "version": "3.10.16"
  }
 },
 "nbformat": 4,
 "nbformat_minor": 5
}
